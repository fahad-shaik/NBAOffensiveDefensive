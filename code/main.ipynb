{
 "metadata": {
  "language_info": {
   "codemirror_mode": {
    "name": "ipython",
    "version": 3
   },
   "file_extension": ".py",
   "mimetype": "text/x-python",
   "name": "python",
   "nbconvert_exporter": "python",
   "pygments_lexer": "ipython3",
   "version": "3.9.4"
  },
  "orig_nbformat": 2,
  "kernelspec": {
   "name": "python394jvsc74a57bd029e2013b4b3955b211041aee3368967a96bfca65d41ee5f655d86bd41973a326",
   "display_name": "Python 3.9.4 64-bit"
  }
 },
 "nbformat": 4,
 "nbformat_minor": 2,
 "cells": [
  {
   "cell_type": "code",
   "execution_count": 85,
   "metadata": {},
   "outputs": [],
   "source": [
    "import numpy as np \n",
    "import pandas as pd \n",
    "import scipy as sc \n",
    "import sklearn as sk \n",
    "import matplotlib as plot"
   ]
  },
  {
   "cell_type": "code",
   "execution_count": 86,
   "metadata": {},
   "outputs": [],
   "source": [
    "team_map = {\"ATL\" : \"Atlanta Hawks\", \"BKN\" : \"Brooklyn Nets\", \"BOS\": \"Boston Celtics\", \"CHA\" : \"Charlotte Hornets\", \"CHI\" : \"Chicago Bulls\", \"CLE\" : \"Cleveland Cavaliers\", \"DAL\" : \"Dallas Mavericks\", \"DEN\" : \"Denver Nuggets\", \"DET\" : \"Detroit Pistons\", \"GSW\" : \"Golden State Warriors\", \"HOU\" : \"Houston Rockets\", \"IND\" : \"Indiana Pacers\", \"LAC\" : \"Los Angeles Clippers\", \"LAL\" : \"Los Angeles Lakers\", \"MEM\" : \"Memphis Grizzlies\", \"MIA\" : \"Miami Heat\", \"MIL\" : \"Milwaukee Bucks\", \"MIN\" : \"Minnesota Timberwolves\",\"NOP\" : \"New Orleans Pelicans\", \"NYK\" : \"New York Knicks\", \"OKC\" : \"Oklahoma City Thunder\", \"ORL\" : \"Orlando Magic\", \"PHI\" : \"Philadelphia 76ers\", \"PHX\" : \"Phoenix Suns\", \"POR\" : \"Portland Trail Blazers\", \"SAC\" : \"Sacramento Kings\", \"SAS\" : \"San Antonio Spurs\", \"TOR\" : \"Toronto Raptors\", \"UTA\" : \"Utah Jazz\", \"WAS\" : \"Washington Wizards\"}\n",
    "\n",
    "df_team = pd.read_csv('../data/teams_stats/2019-20_nba_teams.csv')\n",
    "df_player = pd.read_csv('../data/player_stats/2019-20_nba_players_new.csv')\n"
   ]
  },
  {
   "cell_type": "code",
   "execution_count": 87,
   "metadata": {},
   "outputs": [
    {
     "output_type": "execute_result",
     "data": {
      "text/plain": [
       "    Rk                     Team   G     MP    FG   FGA    FG%    3P   3PA  \\\n",
       "0  1.0        Dallas Mavericks*  75  18175  3124  6772  0.461  1136  3095   \n",
       "1  2.0         Milwaukee Bucks*  73  17595  3160  6638  0.476  1007  2840   \n",
       "2  3.0  Portland Trail Blazers*  74  17835  3122  6749  0.463   952  2525   \n",
       "3  4.0         Houston Rockets*  72  17380  2936  6512  0.451  1126  3261   \n",
       "4  5.0    Los Angeles Clippers*  72  17380  2992  6425  0.466   895  2410   \n",
       "\n",
       "     3P%  ...  ORB   DRB   TRB   AST  STL  BLK   TOV    PF   PTS  PTSA  \n",
       "0  0.367  ...  791  2729  3520  1849  460  363   953  1462  8776  8405  \n",
       "1  0.355  ...  691  3083  3774  1889  526  429  1102  1431  8663  7927  \n",
       "2  0.377  ...  754  2599  3353  1525  465  451   946  1606  8508  8593  \n",
       "3  0.345  ...  704  2484  3188  1557  627  371  1057  1566  8482  8269  \n",
       "4  0.371  ...  767  2664  3431  1708  511  338  1051  1594  8377  7913  \n",
       "\n",
       "[5 rows x 26 columns]"
      ],
      "text/html": "<div>\n<style scoped>\n    .dataframe tbody tr th:only-of-type {\n        vertical-align: middle;\n    }\n\n    .dataframe tbody tr th {\n        vertical-align: top;\n    }\n\n    .dataframe thead th {\n        text-align: right;\n    }\n</style>\n<table border=\"1\" class=\"dataframe\">\n  <thead>\n    <tr style=\"text-align: right;\">\n      <th></th>\n      <th>Rk</th>\n      <th>Team</th>\n      <th>G</th>\n      <th>MP</th>\n      <th>FG</th>\n      <th>FGA</th>\n      <th>FG%</th>\n      <th>3P</th>\n      <th>3PA</th>\n      <th>3P%</th>\n      <th>...</th>\n      <th>ORB</th>\n      <th>DRB</th>\n      <th>TRB</th>\n      <th>AST</th>\n      <th>STL</th>\n      <th>BLK</th>\n      <th>TOV</th>\n      <th>PF</th>\n      <th>PTS</th>\n      <th>PTSA</th>\n    </tr>\n  </thead>\n  <tbody>\n    <tr>\n      <th>0</th>\n      <td>1.0</td>\n      <td>Dallas Mavericks*</td>\n      <td>75</td>\n      <td>18175</td>\n      <td>3124</td>\n      <td>6772</td>\n      <td>0.461</td>\n      <td>1136</td>\n      <td>3095</td>\n      <td>0.367</td>\n      <td>...</td>\n      <td>791</td>\n      <td>2729</td>\n      <td>3520</td>\n      <td>1849</td>\n      <td>460</td>\n      <td>363</td>\n      <td>953</td>\n      <td>1462</td>\n      <td>8776</td>\n      <td>8405</td>\n    </tr>\n    <tr>\n      <th>1</th>\n      <td>2.0</td>\n      <td>Milwaukee Bucks*</td>\n      <td>73</td>\n      <td>17595</td>\n      <td>3160</td>\n      <td>6638</td>\n      <td>0.476</td>\n      <td>1007</td>\n      <td>2840</td>\n      <td>0.355</td>\n      <td>...</td>\n      <td>691</td>\n      <td>3083</td>\n      <td>3774</td>\n      <td>1889</td>\n      <td>526</td>\n      <td>429</td>\n      <td>1102</td>\n      <td>1431</td>\n      <td>8663</td>\n      <td>7927</td>\n    </tr>\n    <tr>\n      <th>2</th>\n      <td>3.0</td>\n      <td>Portland Trail Blazers*</td>\n      <td>74</td>\n      <td>17835</td>\n      <td>3122</td>\n      <td>6749</td>\n      <td>0.463</td>\n      <td>952</td>\n      <td>2525</td>\n      <td>0.377</td>\n      <td>...</td>\n      <td>754</td>\n      <td>2599</td>\n      <td>3353</td>\n      <td>1525</td>\n      <td>465</td>\n      <td>451</td>\n      <td>946</td>\n      <td>1606</td>\n      <td>8508</td>\n      <td>8593</td>\n    </tr>\n    <tr>\n      <th>3</th>\n      <td>4.0</td>\n      <td>Houston Rockets*</td>\n      <td>72</td>\n      <td>17380</td>\n      <td>2936</td>\n      <td>6512</td>\n      <td>0.451</td>\n      <td>1126</td>\n      <td>3261</td>\n      <td>0.345</td>\n      <td>...</td>\n      <td>704</td>\n      <td>2484</td>\n      <td>3188</td>\n      <td>1557</td>\n      <td>627</td>\n      <td>371</td>\n      <td>1057</td>\n      <td>1566</td>\n      <td>8482</td>\n      <td>8269</td>\n    </tr>\n    <tr>\n      <th>4</th>\n      <td>5.0</td>\n      <td>Los Angeles Clippers*</td>\n      <td>72</td>\n      <td>17380</td>\n      <td>2992</td>\n      <td>6425</td>\n      <td>0.466</td>\n      <td>895</td>\n      <td>2410</td>\n      <td>0.371</td>\n      <td>...</td>\n      <td>767</td>\n      <td>2664</td>\n      <td>3431</td>\n      <td>1708</td>\n      <td>511</td>\n      <td>338</td>\n      <td>1051</td>\n      <td>1594</td>\n      <td>8377</td>\n      <td>7913</td>\n    </tr>\n  </tbody>\n</table>\n<p>5 rows × 26 columns</p>\n</div>"
     },
     "metadata": {},
     "execution_count": 87
    }
   ],
   "source": [
    "df_team.head()"
   ]
  },
  {
   "cell_type": "code",
   "execution_count": 88,
   "metadata": {},
   "outputs": [
    {
     "output_type": "execute_result",
     "data": {
      "text/plain": [
       "   Rk                              Player Pos  Age   Tm   G  GS    MP   FG  \\\n",
       "0   1              Steven Adams/adamsst01   C   26  OKC  63  63  1680  283   \n",
       "1   2               Bam Adebayo/adebaba01  PF   22  MIA  72  72  2417  440   \n",
       "2   3         LaMarcus Aldridge/aldrila01   C   34  SAS  53  53  1754  391   \n",
       "3   4            Kyle Alexander/alexaky01   C   23  MIA   2   0    13    1   \n",
       "4   5  Nickeil Alexander-Walker/alexani01  SG   21  NOP  47   1   591   98   \n",
       "\n",
       "   FGA  ...    FT%  ORB  DRB  TRB  AST  STL  BLK  TOV   PF   PTS  \n",
       "0  478  ...  0.582  207  376  583  146   51   67   94  122   684  \n",
       "1  790  ...  0.691  176  559  735  368   82   93  204  182  1146  \n",
       "2  793  ...  0.827  103  289  392  129   36   87   74  128  1001  \n",
       "3    2  ...    NaN    2    1    3    0    0    0    1    1     2  \n",
       "4  266  ...  0.676    9   75   84   89   17    8   54   57   267  \n",
       "\n",
       "[5 rows x 30 columns]"
      ],
      "text/html": "<div>\n<style scoped>\n    .dataframe tbody tr th:only-of-type {\n        vertical-align: middle;\n    }\n\n    .dataframe tbody tr th {\n        vertical-align: top;\n    }\n\n    .dataframe thead th {\n        text-align: right;\n    }\n</style>\n<table border=\"1\" class=\"dataframe\">\n  <thead>\n    <tr style=\"text-align: right;\">\n      <th></th>\n      <th>Rk</th>\n      <th>Player</th>\n      <th>Pos</th>\n      <th>Age</th>\n      <th>Tm</th>\n      <th>G</th>\n      <th>GS</th>\n      <th>MP</th>\n      <th>FG</th>\n      <th>FGA</th>\n      <th>...</th>\n      <th>FT%</th>\n      <th>ORB</th>\n      <th>DRB</th>\n      <th>TRB</th>\n      <th>AST</th>\n      <th>STL</th>\n      <th>BLK</th>\n      <th>TOV</th>\n      <th>PF</th>\n      <th>PTS</th>\n    </tr>\n  </thead>\n  <tbody>\n    <tr>\n      <th>0</th>\n      <td>1</td>\n      <td>Steven Adams/adamsst01</td>\n      <td>C</td>\n      <td>26</td>\n      <td>OKC</td>\n      <td>63</td>\n      <td>63</td>\n      <td>1680</td>\n      <td>283</td>\n      <td>478</td>\n      <td>...</td>\n      <td>0.582</td>\n      <td>207</td>\n      <td>376</td>\n      <td>583</td>\n      <td>146</td>\n      <td>51</td>\n      <td>67</td>\n      <td>94</td>\n      <td>122</td>\n      <td>684</td>\n    </tr>\n    <tr>\n      <th>1</th>\n      <td>2</td>\n      <td>Bam Adebayo/adebaba01</td>\n      <td>PF</td>\n      <td>22</td>\n      <td>MIA</td>\n      <td>72</td>\n      <td>72</td>\n      <td>2417</td>\n      <td>440</td>\n      <td>790</td>\n      <td>...</td>\n      <td>0.691</td>\n      <td>176</td>\n      <td>559</td>\n      <td>735</td>\n      <td>368</td>\n      <td>82</td>\n      <td>93</td>\n      <td>204</td>\n      <td>182</td>\n      <td>1146</td>\n    </tr>\n    <tr>\n      <th>2</th>\n      <td>3</td>\n      <td>LaMarcus Aldridge/aldrila01</td>\n      <td>C</td>\n      <td>34</td>\n      <td>SAS</td>\n      <td>53</td>\n      <td>53</td>\n      <td>1754</td>\n      <td>391</td>\n      <td>793</td>\n      <td>...</td>\n      <td>0.827</td>\n      <td>103</td>\n      <td>289</td>\n      <td>392</td>\n      <td>129</td>\n      <td>36</td>\n      <td>87</td>\n      <td>74</td>\n      <td>128</td>\n      <td>1001</td>\n    </tr>\n    <tr>\n      <th>3</th>\n      <td>4</td>\n      <td>Kyle Alexander/alexaky01</td>\n      <td>C</td>\n      <td>23</td>\n      <td>MIA</td>\n      <td>2</td>\n      <td>0</td>\n      <td>13</td>\n      <td>1</td>\n      <td>2</td>\n      <td>...</td>\n      <td>NaN</td>\n      <td>2</td>\n      <td>1</td>\n      <td>3</td>\n      <td>0</td>\n      <td>0</td>\n      <td>0</td>\n      <td>1</td>\n      <td>1</td>\n      <td>2</td>\n    </tr>\n    <tr>\n      <th>4</th>\n      <td>5</td>\n      <td>Nickeil Alexander-Walker/alexani01</td>\n      <td>SG</td>\n      <td>21</td>\n      <td>NOP</td>\n      <td>47</td>\n      <td>1</td>\n      <td>591</td>\n      <td>98</td>\n      <td>266</td>\n      <td>...</td>\n      <td>0.676</td>\n      <td>9</td>\n      <td>75</td>\n      <td>84</td>\n      <td>89</td>\n      <td>17</td>\n      <td>8</td>\n      <td>54</td>\n      <td>57</td>\n      <td>267</td>\n    </tr>\n  </tbody>\n</table>\n<p>5 rows × 30 columns</p>\n</div>"
     },
     "metadata": {},
     "execution_count": 88
    }
   ],
   "source": [
    "df_player.head()"
   ]
  },
  {
   "cell_type": "code",
   "execution_count": 89,
   "metadata": {},
   "outputs": [
    {
     "output_type": "execute_result",
     "data": {
      "text/plain": [
       "    Rk                    Team   G     MP    FG   FGA    FG%    3P   3PA  \\\n",
       "0  1.0        Dallas Mavericks  75  18175  3124  6772  0.461  1136  3095   \n",
       "1  2.0         Milwaukee Bucks  73  17595  3160  6638  0.476  1007  2840   \n",
       "2  3.0  Portland Trail Blazers  74  17835  3122  6749  0.463   952  2525   \n",
       "3  4.0         Houston Rockets  72  17380  2936  6512  0.451  1126  3261   \n",
       "4  5.0    Los Angeles Clippers  72  17380  2992  6425  0.466   895  2410   \n",
       "\n",
       "     3P%  ...  ORB   DRB   TRB   AST  STL  BLK   TOV    PF   PTS  PTSA  \n",
       "0  0.367  ...  791  2729  3520  1849  460  363   953  1462  8776  8405  \n",
       "1  0.355  ...  691  3083  3774  1889  526  429  1102  1431  8663  7927  \n",
       "2  0.377  ...  754  2599  3353  1525  465  451   946  1606  8508  8593  \n",
       "3  0.345  ...  704  2484  3188  1557  627  371  1057  1566  8482  8269  \n",
       "4  0.371  ...  767  2664  3431  1708  511  338  1051  1594  8377  7913  \n",
       "\n",
       "[5 rows x 26 columns]"
      ],
      "text/html": "<div>\n<style scoped>\n    .dataframe tbody tr th:only-of-type {\n        vertical-align: middle;\n    }\n\n    .dataframe tbody tr th {\n        vertical-align: top;\n    }\n\n    .dataframe thead th {\n        text-align: right;\n    }\n</style>\n<table border=\"1\" class=\"dataframe\">\n  <thead>\n    <tr style=\"text-align: right;\">\n      <th></th>\n      <th>Rk</th>\n      <th>Team</th>\n      <th>G</th>\n      <th>MP</th>\n      <th>FG</th>\n      <th>FGA</th>\n      <th>FG%</th>\n      <th>3P</th>\n      <th>3PA</th>\n      <th>3P%</th>\n      <th>...</th>\n      <th>ORB</th>\n      <th>DRB</th>\n      <th>TRB</th>\n      <th>AST</th>\n      <th>STL</th>\n      <th>BLK</th>\n      <th>TOV</th>\n      <th>PF</th>\n      <th>PTS</th>\n      <th>PTSA</th>\n    </tr>\n  </thead>\n  <tbody>\n    <tr>\n      <th>0</th>\n      <td>1.0</td>\n      <td>Dallas Mavericks</td>\n      <td>75</td>\n      <td>18175</td>\n      <td>3124</td>\n      <td>6772</td>\n      <td>0.461</td>\n      <td>1136</td>\n      <td>3095</td>\n      <td>0.367</td>\n      <td>...</td>\n      <td>791</td>\n      <td>2729</td>\n      <td>3520</td>\n      <td>1849</td>\n      <td>460</td>\n      <td>363</td>\n      <td>953</td>\n      <td>1462</td>\n      <td>8776</td>\n      <td>8405</td>\n    </tr>\n    <tr>\n      <th>1</th>\n      <td>2.0</td>\n      <td>Milwaukee Bucks</td>\n      <td>73</td>\n      <td>17595</td>\n      <td>3160</td>\n      <td>6638</td>\n      <td>0.476</td>\n      <td>1007</td>\n      <td>2840</td>\n      <td>0.355</td>\n      <td>...</td>\n      <td>691</td>\n      <td>3083</td>\n      <td>3774</td>\n      <td>1889</td>\n      <td>526</td>\n      <td>429</td>\n      <td>1102</td>\n      <td>1431</td>\n      <td>8663</td>\n      <td>7927</td>\n    </tr>\n    <tr>\n      <th>2</th>\n      <td>3.0</td>\n      <td>Portland Trail Blazers</td>\n      <td>74</td>\n      <td>17835</td>\n      <td>3122</td>\n      <td>6749</td>\n      <td>0.463</td>\n      <td>952</td>\n      <td>2525</td>\n      <td>0.377</td>\n      <td>...</td>\n      <td>754</td>\n      <td>2599</td>\n      <td>3353</td>\n      <td>1525</td>\n      <td>465</td>\n      <td>451</td>\n      <td>946</td>\n      <td>1606</td>\n      <td>8508</td>\n      <td>8593</td>\n    </tr>\n    <tr>\n      <th>3</th>\n      <td>4.0</td>\n      <td>Houston Rockets</td>\n      <td>72</td>\n      <td>17380</td>\n      <td>2936</td>\n      <td>6512</td>\n      <td>0.451</td>\n      <td>1126</td>\n      <td>3261</td>\n      <td>0.345</td>\n      <td>...</td>\n      <td>704</td>\n      <td>2484</td>\n      <td>3188</td>\n      <td>1557</td>\n      <td>627</td>\n      <td>371</td>\n      <td>1057</td>\n      <td>1566</td>\n      <td>8482</td>\n      <td>8269</td>\n    </tr>\n    <tr>\n      <th>4</th>\n      <td>5.0</td>\n      <td>Los Angeles Clippers</td>\n      <td>72</td>\n      <td>17380</td>\n      <td>2992</td>\n      <td>6425</td>\n      <td>0.466</td>\n      <td>895</td>\n      <td>2410</td>\n      <td>0.371</td>\n      <td>...</td>\n      <td>767</td>\n      <td>2664</td>\n      <td>3431</td>\n      <td>1708</td>\n      <td>511</td>\n      <td>338</td>\n      <td>1051</td>\n      <td>1594</td>\n      <td>8377</td>\n      <td>7913</td>\n    </tr>\n  </tbody>\n</table>\n<p>5 rows × 26 columns</p>\n</div>"
     },
     "metadata": {},
     "execution_count": 89
    }
   ],
   "source": [
    "def stripAsterisk(s):\n",
    "    if s[-1] == '*':\n",
    "        return s[0:-1]\n",
    "    else:\n",
    "        return s\n",
    "\n",
    "df_team['Team'] = df_team['Team'].apply(stripAsterisk)\n",
    "df_team = df_team.dropna()\n",
    "df_team.head()"
   ]
  },
  {
   "cell_type": "code",
   "execution_count": 90,
   "metadata": {},
   "outputs": [
    {
     "output_type": "execute_result",
     "data": {
      "text/plain": [
       "   Rk                    Player Pos  Age   Tm   G  GS    MP   FG  FGA  ...  \\\n",
       "0   1              Steven Adams   C   26  OKC  63  63  1680  283  478  ...   \n",
       "1   2               Bam Adebayo  PF   22  MIA  72  72  2417  440  790  ...   \n",
       "2   3         LaMarcus Aldridge   C   34  SAS  53  53  1754  391  793  ...   \n",
       "4   5  Nickeil Alexander-Walker  SG   21  NOP  47   1   591   98  266  ...   \n",
       "5   6             Grayson Allen  SG   24  MEM  38   0   718  117  251  ...   \n",
       "\n",
       "     FT%  ORB  DRB  TRB  AST  STL  BLK  TOV   PF   PTS  \n",
       "0  0.582  207  376  583  146   51   67   94  122   684  \n",
       "1  0.691  176  559  735  368   82   93  204  182  1146  \n",
       "2  0.827  103  289  392  129   36   87   74  128  1001  \n",
       "4  0.676    9   75   84   89   17    8   54   57   267  \n",
       "5  0.867    8   77   85   52   10    2   33   53   330  \n",
       "\n",
       "[5 rows x 30 columns]"
      ],
      "text/html": "<div>\n<style scoped>\n    .dataframe tbody tr th:only-of-type {\n        vertical-align: middle;\n    }\n\n    .dataframe tbody tr th {\n        vertical-align: top;\n    }\n\n    .dataframe thead th {\n        text-align: right;\n    }\n</style>\n<table border=\"1\" class=\"dataframe\">\n  <thead>\n    <tr style=\"text-align: right;\">\n      <th></th>\n      <th>Rk</th>\n      <th>Player</th>\n      <th>Pos</th>\n      <th>Age</th>\n      <th>Tm</th>\n      <th>G</th>\n      <th>GS</th>\n      <th>MP</th>\n      <th>FG</th>\n      <th>FGA</th>\n      <th>...</th>\n      <th>FT%</th>\n      <th>ORB</th>\n      <th>DRB</th>\n      <th>TRB</th>\n      <th>AST</th>\n      <th>STL</th>\n      <th>BLK</th>\n      <th>TOV</th>\n      <th>PF</th>\n      <th>PTS</th>\n    </tr>\n  </thead>\n  <tbody>\n    <tr>\n      <th>0</th>\n      <td>1</td>\n      <td>Steven Adams</td>\n      <td>C</td>\n      <td>26</td>\n      <td>OKC</td>\n      <td>63</td>\n      <td>63</td>\n      <td>1680</td>\n      <td>283</td>\n      <td>478</td>\n      <td>...</td>\n      <td>0.582</td>\n      <td>207</td>\n      <td>376</td>\n      <td>583</td>\n      <td>146</td>\n      <td>51</td>\n      <td>67</td>\n      <td>94</td>\n      <td>122</td>\n      <td>684</td>\n    </tr>\n    <tr>\n      <th>1</th>\n      <td>2</td>\n      <td>Bam Adebayo</td>\n      <td>PF</td>\n      <td>22</td>\n      <td>MIA</td>\n      <td>72</td>\n      <td>72</td>\n      <td>2417</td>\n      <td>440</td>\n      <td>790</td>\n      <td>...</td>\n      <td>0.691</td>\n      <td>176</td>\n      <td>559</td>\n      <td>735</td>\n      <td>368</td>\n      <td>82</td>\n      <td>93</td>\n      <td>204</td>\n      <td>182</td>\n      <td>1146</td>\n    </tr>\n    <tr>\n      <th>2</th>\n      <td>3</td>\n      <td>LaMarcus Aldridge</td>\n      <td>C</td>\n      <td>34</td>\n      <td>SAS</td>\n      <td>53</td>\n      <td>53</td>\n      <td>1754</td>\n      <td>391</td>\n      <td>793</td>\n      <td>...</td>\n      <td>0.827</td>\n      <td>103</td>\n      <td>289</td>\n      <td>392</td>\n      <td>129</td>\n      <td>36</td>\n      <td>87</td>\n      <td>74</td>\n      <td>128</td>\n      <td>1001</td>\n    </tr>\n    <tr>\n      <th>4</th>\n      <td>5</td>\n      <td>Nickeil Alexander-Walker</td>\n      <td>SG</td>\n      <td>21</td>\n      <td>NOP</td>\n      <td>47</td>\n      <td>1</td>\n      <td>591</td>\n      <td>98</td>\n      <td>266</td>\n      <td>...</td>\n      <td>0.676</td>\n      <td>9</td>\n      <td>75</td>\n      <td>84</td>\n      <td>89</td>\n      <td>17</td>\n      <td>8</td>\n      <td>54</td>\n      <td>57</td>\n      <td>267</td>\n    </tr>\n    <tr>\n      <th>5</th>\n      <td>6</td>\n      <td>Grayson Allen</td>\n      <td>SG</td>\n      <td>24</td>\n      <td>MEM</td>\n      <td>38</td>\n      <td>0</td>\n      <td>718</td>\n      <td>117</td>\n      <td>251</td>\n      <td>...</td>\n      <td>0.867</td>\n      <td>8</td>\n      <td>77</td>\n      <td>85</td>\n      <td>52</td>\n      <td>10</td>\n      <td>2</td>\n      <td>33</td>\n      <td>53</td>\n      <td>330</td>\n    </tr>\n  </tbody>\n</table>\n<p>5 rows × 30 columns</p>\n</div>"
     },
     "metadata": {},
     "execution_count": 90
    }
   ],
   "source": [
    "def nameOnly(s):\n",
    "    new_s = s.split('/')\n",
    "    return new_s[0]\n",
    "\n",
    "df_player['Player'] = df_player['Player'].apply(nameOnly)\n",
    "df_player = df_player.dropna()\n",
    "df_player.head()"
   ]
  },
  {
   "cell_type": "code",
   "execution_count": 91,
   "metadata": {},
   "outputs": [
    {
     "output_type": "execute_result",
     "data": {
      "text/plain": [
       "      Rk                    Team   G     MP    FG   FGA    FG%    3P   3PA  \\\n",
       "28  29.0   Golden State Warriors  65  15725  2510  5730  0.438   678  2032   \n",
       "26  27.0     Cleveland Cavaliers  65  15725  2619  5715  0.458   727  2070   \n",
       "22  23.0           Atlanta Hawks  67  16280  2723  6067  0.449   805  2416   \n",
       "29  30.0       Charlotte Hornets  65  15750  2425  5586  0.434   785  2231   \n",
       "25  26.0         New York Knicks  66  15965  2638  5896  0.447   631  1872   \n",
       "7    8.0      Washington Wizards  72  17355  2990  6544  0.457   864  2345   \n",
       "23  24.0  Minnesota Timberwolves  64  15560  2586  5865  0.441   853  2540   \n",
       "24  25.0         Detroit Pistons  66  15965  2595  5658  0.459   791  2157   \n",
       "27  28.0           Chicago Bulls  65  15675  2573  5762  0.447   793  2282   \n",
       "20  21.0        Sacramento Kings  72  17455  2943  6364  0.462   914  2511   \n",
       "5    6.0    New Orleans Pelicans  72  17430  3065  6598  0.465   982  2656   \n",
       "2    3.0  Portland Trail Blazers  74  17835  3122  6749  0.463   952  2525   \n",
       "13  14.0       San Antonio Spurs  71  17215  2995  6350  0.472   760  2021   \n",
       "8    9.0       Memphis Grizzlies  73  17570  3106  6634  0.468   798  2297   \n",
       "21  22.0           Orlando Magic  73  17570  2871  6468  0.444   807  2354   \n",
       "16  17.0           Brooklyn Nets  72  17480  2908  6498  0.448   941  2746   \n",
       "6    7.0            Phoenix Suns  73  17595  3006  6429  0.468   831  2320   \n",
       "18  19.0          Indiana Pacers  73  17620  3075  6457  0.476   743  2046   \n",
       "19  20.0   Oklahoma City Thunder  72  17430  2879  6156  0.468   770  2171   \n",
       "11  12.0          Denver Nuggets  73  17745  3069  6488  0.473   801  2234   \n",
       "14  15.0      Philadelphia 76ers  73  17595  3000  6417  0.468   848  2307   \n",
       "17  18.0               Utah Jazz  72  17355  2886  6130  0.471   963  2537   \n",
       "3    4.0         Houston Rockets  72  17380  2936  6512  0.451  1126  3261   \n",
       "10  11.0              Miami Heat  73  17745  2880  6160  0.468   979  2584   \n",
       "0    1.0        Dallas Mavericks  75  18175  3124  6772  0.461  1136  3095   \n",
       "15  16.0      Los Angeles Lakers  71  17090  3006  6269  0.480   782  2242   \n",
       "12  13.0         Toronto Raptors  72  17380  2897  6331  0.458   995  2663   \n",
       "9   10.0          Boston Celtics  72  17430  2971  6448  0.461   905  2487   \n",
       "4    5.0    Los Angeles Clippers  72  17380  2992  6425  0.466   895  2410   \n",
       "1    2.0         Milwaukee Bucks  73  17595  3160  6638  0.476  1007  2840   \n",
       "\n",
       "      3P%  ...   AST  STL  BLK   TOV    PF   PTS  PTSA        ORTG  \\\n",
       "28  0.334  ...  1663  534  299   969  1304  6912  7478  103.839913   \n",
       "26  0.351  ...  1500  447  211  1073  1188  6948  7461  105.234460   \n",
       "22  0.333  ...  1605  523  341  1086  1548  7488  8022  105.192178   \n",
       "29  0.352  ...  1549  428  268   949  1223  6687  7126  104.772499   \n",
       "25  0.337  ...  1456  504  313   946  1464  6983  7409  104.739763   \n",
       "7   0.368  ...  1801  574  309  1020  1634  8238  8574  109.257294   \n",
       "23  0.336  ...  1525  555  362   981  1370  7248  7523  106.266311   \n",
       "24  0.367  ...  1589  490  299  1008  1299  7078  7313  107.041316   \n",
       "27  0.348  ...  1510  652  265  1005  1417  6945  7145  104.912535   \n",
       "20  0.364  ...  1713  556  293  1043  1595  7927  8074  108.624753   \n",
       "5   0.370  ...  1932  539  358  1181  1524  8341  8434  108.935848   \n",
       "2   0.377  ...  1525  465  451   946  1606  8508  8593  112.038768   \n",
       "13  0.376  ...  1751  518  390   895  1377  8098  8177  111.380079   \n",
       "8   0.347  ...  1965  576  398  1113  1546  8222  8300  107.778623   \n",
       "21  0.343  ...  1747  599  396   937  1336  7831  7905  107.033514   \n",
       "16  0.343  ...  1761  464  323  1099  1510  8048  8089  106.967224   \n",
       "6   0.358  ...  1987  559  290  1077  1609  8294  8278  110.734312   \n",
       "18  0.363  ...  1888  543  376   967  1445  7989  7846  108.764908   \n",
       "19  0.355  ...  1562  550  353   986  1390  7950  7807  109.446846   \n",
       "11  0.359  ...  1952  586  337  1005  1485  8124  7970  111.023041   \n",
       "14  0.368  ...  1884  586  389  1037  1529  8084  7910  110.058269   \n",
       "17  0.380  ...  1615  438  292  1089  1468  8013  7835  110.992603   \n",
       "3   0.345  ...  1557  627  371  1057  1566  8482  8269  111.379573   \n",
       "10  0.379  ...  1892  547  332  1088  1501  8179  7964  111.067355   \n",
       "0   0.367  ...  1849  460  363   953  1462  8776  8405  114.736952   \n",
       "15  0.349  ...  1803  612  468  1077  1471  8054  7643  110.628829   \n",
       "12  0.374  ...  1816  636  358  1067  1559  8118  7669  109.985097   \n",
       "9   0.364  ...  1655  595  406   995  1553  8183  7729  111.451609   \n",
       "4   0.371  ...  1708  511  338  1051  1594  8377  7913  112.192966   \n",
       "1   0.355  ...  1889  526  429  1102  1431  8663  7927  111.507272   \n",
       "\n",
       "          DRTG      NRTG  \n",
       "28  112.343008 -8.503095  \n",
       "26  113.004362 -7.769902  \n",
       "22  112.693864 -7.501686  \n",
       "29  111.650790 -6.878290  \n",
       "25  111.129444 -6.389681  \n",
       "7   113.713528 -4.456233  \n",
       "23  110.298214 -4.031903  \n",
       "24  110.595245 -3.553929  \n",
       "27  107.933774 -3.021239  \n",
       "20  110.639114 -2.014361  \n",
       "5   110.150454 -1.214607  \n",
       "2   113.158103 -1.119334  \n",
       "13  112.466646 -1.086568  \n",
       "8   108.801091 -1.022468  \n",
       "21  108.044940 -1.011426  \n",
       "16  107.512161 -0.544937  \n",
       "6   110.520694  0.213618  \n",
       "18  106.818058  1.946850  \n",
       "19  107.478179  1.968667  \n",
       "11  108.918468  2.104573  \n",
       "14  107.689375  2.368894  \n",
       "17  108.527024  2.465579  \n",
       "3   108.582609  2.796964  \n",
       "10  108.147746  2.919609  \n",
       "0   109.886518  4.850434  \n",
       "15  104.983380  5.645449  \n",
       "12  103.901910  6.083187  \n",
       "9   105.268176  6.183433  \n",
       "4   105.978625  6.214341  \n",
       "1   102.033724  9.473549  \n",
       "\n",
       "[30 rows x 29 columns]"
      ],
      "text/html": "<div>\n<style scoped>\n    .dataframe tbody tr th:only-of-type {\n        vertical-align: middle;\n    }\n\n    .dataframe tbody tr th {\n        vertical-align: top;\n    }\n\n    .dataframe thead th {\n        text-align: right;\n    }\n</style>\n<table border=\"1\" class=\"dataframe\">\n  <thead>\n    <tr style=\"text-align: right;\">\n      <th></th>\n      <th>Rk</th>\n      <th>Team</th>\n      <th>G</th>\n      <th>MP</th>\n      <th>FG</th>\n      <th>FGA</th>\n      <th>FG%</th>\n      <th>3P</th>\n      <th>3PA</th>\n      <th>3P%</th>\n      <th>...</th>\n      <th>AST</th>\n      <th>STL</th>\n      <th>BLK</th>\n      <th>TOV</th>\n      <th>PF</th>\n      <th>PTS</th>\n      <th>PTSA</th>\n      <th>ORTG</th>\n      <th>DRTG</th>\n      <th>NRTG</th>\n    </tr>\n  </thead>\n  <tbody>\n    <tr>\n      <th>28</th>\n      <td>29.0</td>\n      <td>Golden State Warriors</td>\n      <td>65</td>\n      <td>15725</td>\n      <td>2510</td>\n      <td>5730</td>\n      <td>0.438</td>\n      <td>678</td>\n      <td>2032</td>\n      <td>0.334</td>\n      <td>...</td>\n      <td>1663</td>\n      <td>534</td>\n      <td>299</td>\n      <td>969</td>\n      <td>1304</td>\n      <td>6912</td>\n      <td>7478</td>\n      <td>103.839913</td>\n      <td>112.343008</td>\n      <td>-8.503095</td>\n    </tr>\n    <tr>\n      <th>26</th>\n      <td>27.0</td>\n      <td>Cleveland Cavaliers</td>\n      <td>65</td>\n      <td>15725</td>\n      <td>2619</td>\n      <td>5715</td>\n      <td>0.458</td>\n      <td>727</td>\n      <td>2070</td>\n      <td>0.351</td>\n      <td>...</td>\n      <td>1500</td>\n      <td>447</td>\n      <td>211</td>\n      <td>1073</td>\n      <td>1188</td>\n      <td>6948</td>\n      <td>7461</td>\n      <td>105.234460</td>\n      <td>113.004362</td>\n      <td>-7.769902</td>\n    </tr>\n    <tr>\n      <th>22</th>\n      <td>23.0</td>\n      <td>Atlanta Hawks</td>\n      <td>67</td>\n      <td>16280</td>\n      <td>2723</td>\n      <td>6067</td>\n      <td>0.449</td>\n      <td>805</td>\n      <td>2416</td>\n      <td>0.333</td>\n      <td>...</td>\n      <td>1605</td>\n      <td>523</td>\n      <td>341</td>\n      <td>1086</td>\n      <td>1548</td>\n      <td>7488</td>\n      <td>8022</td>\n      <td>105.192178</td>\n      <td>112.693864</td>\n      <td>-7.501686</td>\n    </tr>\n    <tr>\n      <th>29</th>\n      <td>30.0</td>\n      <td>Charlotte Hornets</td>\n      <td>65</td>\n      <td>15750</td>\n      <td>2425</td>\n      <td>5586</td>\n      <td>0.434</td>\n      <td>785</td>\n      <td>2231</td>\n      <td>0.352</td>\n      <td>...</td>\n      <td>1549</td>\n      <td>428</td>\n      <td>268</td>\n      <td>949</td>\n      <td>1223</td>\n      <td>6687</td>\n      <td>7126</td>\n      <td>104.772499</td>\n      <td>111.650790</td>\n      <td>-6.878290</td>\n    </tr>\n    <tr>\n      <th>25</th>\n      <td>26.0</td>\n      <td>New York Knicks</td>\n      <td>66</td>\n      <td>15965</td>\n      <td>2638</td>\n      <td>5896</td>\n      <td>0.447</td>\n      <td>631</td>\n      <td>1872</td>\n      <td>0.337</td>\n      <td>...</td>\n      <td>1456</td>\n      <td>504</td>\n      <td>313</td>\n      <td>946</td>\n      <td>1464</td>\n      <td>6983</td>\n      <td>7409</td>\n      <td>104.739763</td>\n      <td>111.129444</td>\n      <td>-6.389681</td>\n    </tr>\n    <tr>\n      <th>7</th>\n      <td>8.0</td>\n      <td>Washington Wizards</td>\n      <td>72</td>\n      <td>17355</td>\n      <td>2990</td>\n      <td>6544</td>\n      <td>0.457</td>\n      <td>864</td>\n      <td>2345</td>\n      <td>0.368</td>\n      <td>...</td>\n      <td>1801</td>\n      <td>574</td>\n      <td>309</td>\n      <td>1020</td>\n      <td>1634</td>\n      <td>8238</td>\n      <td>8574</td>\n      <td>109.257294</td>\n      <td>113.713528</td>\n      <td>-4.456233</td>\n    </tr>\n    <tr>\n      <th>23</th>\n      <td>24.0</td>\n      <td>Minnesota Timberwolves</td>\n      <td>64</td>\n      <td>15560</td>\n      <td>2586</td>\n      <td>5865</td>\n      <td>0.441</td>\n      <td>853</td>\n      <td>2540</td>\n      <td>0.336</td>\n      <td>...</td>\n      <td>1525</td>\n      <td>555</td>\n      <td>362</td>\n      <td>981</td>\n      <td>1370</td>\n      <td>7248</td>\n      <td>7523</td>\n      <td>106.266311</td>\n      <td>110.298214</td>\n      <td>-4.031903</td>\n    </tr>\n    <tr>\n      <th>24</th>\n      <td>25.0</td>\n      <td>Detroit Pistons</td>\n      <td>66</td>\n      <td>15965</td>\n      <td>2595</td>\n      <td>5658</td>\n      <td>0.459</td>\n      <td>791</td>\n      <td>2157</td>\n      <td>0.367</td>\n      <td>...</td>\n      <td>1589</td>\n      <td>490</td>\n      <td>299</td>\n      <td>1008</td>\n      <td>1299</td>\n      <td>7078</td>\n      <td>7313</td>\n      <td>107.041316</td>\n      <td>110.595245</td>\n      <td>-3.553929</td>\n    </tr>\n    <tr>\n      <th>27</th>\n      <td>28.0</td>\n      <td>Chicago Bulls</td>\n      <td>65</td>\n      <td>15675</td>\n      <td>2573</td>\n      <td>5762</td>\n      <td>0.447</td>\n      <td>793</td>\n      <td>2282</td>\n      <td>0.348</td>\n      <td>...</td>\n      <td>1510</td>\n      <td>652</td>\n      <td>265</td>\n      <td>1005</td>\n      <td>1417</td>\n      <td>6945</td>\n      <td>7145</td>\n      <td>104.912535</td>\n      <td>107.933774</td>\n      <td>-3.021239</td>\n    </tr>\n    <tr>\n      <th>20</th>\n      <td>21.0</td>\n      <td>Sacramento Kings</td>\n      <td>72</td>\n      <td>17455</td>\n      <td>2943</td>\n      <td>6364</td>\n      <td>0.462</td>\n      <td>914</td>\n      <td>2511</td>\n      <td>0.364</td>\n      <td>...</td>\n      <td>1713</td>\n      <td>556</td>\n      <td>293</td>\n      <td>1043</td>\n      <td>1595</td>\n      <td>7927</td>\n      <td>8074</td>\n      <td>108.624753</td>\n      <td>110.639114</td>\n      <td>-2.014361</td>\n    </tr>\n    <tr>\n      <th>5</th>\n      <td>6.0</td>\n      <td>New Orleans Pelicans</td>\n      <td>72</td>\n      <td>17430</td>\n      <td>3065</td>\n      <td>6598</td>\n      <td>0.465</td>\n      <td>982</td>\n      <td>2656</td>\n      <td>0.370</td>\n      <td>...</td>\n      <td>1932</td>\n      <td>539</td>\n      <td>358</td>\n      <td>1181</td>\n      <td>1524</td>\n      <td>8341</td>\n      <td>8434</td>\n      <td>108.935848</td>\n      <td>110.150454</td>\n      <td>-1.214607</td>\n    </tr>\n    <tr>\n      <th>2</th>\n      <td>3.0</td>\n      <td>Portland Trail Blazers</td>\n      <td>74</td>\n      <td>17835</td>\n      <td>3122</td>\n      <td>6749</td>\n      <td>0.463</td>\n      <td>952</td>\n      <td>2525</td>\n      <td>0.377</td>\n      <td>...</td>\n      <td>1525</td>\n      <td>465</td>\n      <td>451</td>\n      <td>946</td>\n      <td>1606</td>\n      <td>8508</td>\n      <td>8593</td>\n      <td>112.038768</td>\n      <td>113.158103</td>\n      <td>-1.119334</td>\n    </tr>\n    <tr>\n      <th>13</th>\n      <td>14.0</td>\n      <td>San Antonio Spurs</td>\n      <td>71</td>\n      <td>17215</td>\n      <td>2995</td>\n      <td>6350</td>\n      <td>0.472</td>\n      <td>760</td>\n      <td>2021</td>\n      <td>0.376</td>\n      <td>...</td>\n      <td>1751</td>\n      <td>518</td>\n      <td>390</td>\n      <td>895</td>\n      <td>1377</td>\n      <td>8098</td>\n      <td>8177</td>\n      <td>111.380079</td>\n      <td>112.466646</td>\n      <td>-1.086568</td>\n    </tr>\n    <tr>\n      <th>8</th>\n      <td>9.0</td>\n      <td>Memphis Grizzlies</td>\n      <td>73</td>\n      <td>17570</td>\n      <td>3106</td>\n      <td>6634</td>\n      <td>0.468</td>\n      <td>798</td>\n      <td>2297</td>\n      <td>0.347</td>\n      <td>...</td>\n      <td>1965</td>\n      <td>576</td>\n      <td>398</td>\n      <td>1113</td>\n      <td>1546</td>\n      <td>8222</td>\n      <td>8300</td>\n      <td>107.778623</td>\n      <td>108.801091</td>\n      <td>-1.022468</td>\n    </tr>\n    <tr>\n      <th>21</th>\n      <td>22.0</td>\n      <td>Orlando Magic</td>\n      <td>73</td>\n      <td>17570</td>\n      <td>2871</td>\n      <td>6468</td>\n      <td>0.444</td>\n      <td>807</td>\n      <td>2354</td>\n      <td>0.343</td>\n      <td>...</td>\n      <td>1747</td>\n      <td>599</td>\n      <td>396</td>\n      <td>937</td>\n      <td>1336</td>\n      <td>7831</td>\n      <td>7905</td>\n      <td>107.033514</td>\n      <td>108.044940</td>\n      <td>-1.011426</td>\n    </tr>\n    <tr>\n      <th>16</th>\n      <td>17.0</td>\n      <td>Brooklyn Nets</td>\n      <td>72</td>\n      <td>17480</td>\n      <td>2908</td>\n      <td>6498</td>\n      <td>0.448</td>\n      <td>941</td>\n      <td>2746</td>\n      <td>0.343</td>\n      <td>...</td>\n      <td>1761</td>\n      <td>464</td>\n      <td>323</td>\n      <td>1099</td>\n      <td>1510</td>\n      <td>8048</td>\n      <td>8089</td>\n      <td>106.967224</td>\n      <td>107.512161</td>\n      <td>-0.544937</td>\n    </tr>\n    <tr>\n      <th>6</th>\n      <td>7.0</td>\n      <td>Phoenix Suns</td>\n      <td>73</td>\n      <td>17595</td>\n      <td>3006</td>\n      <td>6429</td>\n      <td>0.468</td>\n      <td>831</td>\n      <td>2320</td>\n      <td>0.358</td>\n      <td>...</td>\n      <td>1987</td>\n      <td>559</td>\n      <td>290</td>\n      <td>1077</td>\n      <td>1609</td>\n      <td>8294</td>\n      <td>8278</td>\n      <td>110.734312</td>\n      <td>110.520694</td>\n      <td>0.213618</td>\n    </tr>\n    <tr>\n      <th>18</th>\n      <td>19.0</td>\n      <td>Indiana Pacers</td>\n      <td>73</td>\n      <td>17620</td>\n      <td>3075</td>\n      <td>6457</td>\n      <td>0.476</td>\n      <td>743</td>\n      <td>2046</td>\n      <td>0.363</td>\n      <td>...</td>\n      <td>1888</td>\n      <td>543</td>\n      <td>376</td>\n      <td>967</td>\n      <td>1445</td>\n      <td>7989</td>\n      <td>7846</td>\n      <td>108.764908</td>\n      <td>106.818058</td>\n      <td>1.946850</td>\n    </tr>\n    <tr>\n      <th>19</th>\n      <td>20.0</td>\n      <td>Oklahoma City Thunder</td>\n      <td>72</td>\n      <td>17430</td>\n      <td>2879</td>\n      <td>6156</td>\n      <td>0.468</td>\n      <td>770</td>\n      <td>2171</td>\n      <td>0.355</td>\n      <td>...</td>\n      <td>1562</td>\n      <td>550</td>\n      <td>353</td>\n      <td>986</td>\n      <td>1390</td>\n      <td>7950</td>\n      <td>7807</td>\n      <td>109.446846</td>\n      <td>107.478179</td>\n      <td>1.968667</td>\n    </tr>\n    <tr>\n      <th>11</th>\n      <td>12.0</td>\n      <td>Denver Nuggets</td>\n      <td>73</td>\n      <td>17745</td>\n      <td>3069</td>\n      <td>6488</td>\n      <td>0.473</td>\n      <td>801</td>\n      <td>2234</td>\n      <td>0.359</td>\n      <td>...</td>\n      <td>1952</td>\n      <td>586</td>\n      <td>337</td>\n      <td>1005</td>\n      <td>1485</td>\n      <td>8124</td>\n      <td>7970</td>\n      <td>111.023041</td>\n      <td>108.918468</td>\n      <td>2.104573</td>\n    </tr>\n    <tr>\n      <th>14</th>\n      <td>15.0</td>\n      <td>Philadelphia 76ers</td>\n      <td>73</td>\n      <td>17595</td>\n      <td>3000</td>\n      <td>6417</td>\n      <td>0.468</td>\n      <td>848</td>\n      <td>2307</td>\n      <td>0.368</td>\n      <td>...</td>\n      <td>1884</td>\n      <td>586</td>\n      <td>389</td>\n      <td>1037</td>\n      <td>1529</td>\n      <td>8084</td>\n      <td>7910</td>\n      <td>110.058269</td>\n      <td>107.689375</td>\n      <td>2.368894</td>\n    </tr>\n    <tr>\n      <th>17</th>\n      <td>18.0</td>\n      <td>Utah Jazz</td>\n      <td>72</td>\n      <td>17355</td>\n      <td>2886</td>\n      <td>6130</td>\n      <td>0.471</td>\n      <td>963</td>\n      <td>2537</td>\n      <td>0.380</td>\n      <td>...</td>\n      <td>1615</td>\n      <td>438</td>\n      <td>292</td>\n      <td>1089</td>\n      <td>1468</td>\n      <td>8013</td>\n      <td>7835</td>\n      <td>110.992603</td>\n      <td>108.527024</td>\n      <td>2.465579</td>\n    </tr>\n    <tr>\n      <th>3</th>\n      <td>4.0</td>\n      <td>Houston Rockets</td>\n      <td>72</td>\n      <td>17380</td>\n      <td>2936</td>\n      <td>6512</td>\n      <td>0.451</td>\n      <td>1126</td>\n      <td>3261</td>\n      <td>0.345</td>\n      <td>...</td>\n      <td>1557</td>\n      <td>627</td>\n      <td>371</td>\n      <td>1057</td>\n      <td>1566</td>\n      <td>8482</td>\n      <td>8269</td>\n      <td>111.379573</td>\n      <td>108.582609</td>\n      <td>2.796964</td>\n    </tr>\n    <tr>\n      <th>10</th>\n      <td>11.0</td>\n      <td>Miami Heat</td>\n      <td>73</td>\n      <td>17745</td>\n      <td>2880</td>\n      <td>6160</td>\n      <td>0.468</td>\n      <td>979</td>\n      <td>2584</td>\n      <td>0.379</td>\n      <td>...</td>\n      <td>1892</td>\n      <td>547</td>\n      <td>332</td>\n      <td>1088</td>\n      <td>1501</td>\n      <td>8179</td>\n      <td>7964</td>\n      <td>111.067355</td>\n      <td>108.147746</td>\n      <td>2.919609</td>\n    </tr>\n    <tr>\n      <th>0</th>\n      <td>1.0</td>\n      <td>Dallas Mavericks</td>\n      <td>75</td>\n      <td>18175</td>\n      <td>3124</td>\n      <td>6772</td>\n      <td>0.461</td>\n      <td>1136</td>\n      <td>3095</td>\n      <td>0.367</td>\n      <td>...</td>\n      <td>1849</td>\n      <td>460</td>\n      <td>363</td>\n      <td>953</td>\n      <td>1462</td>\n      <td>8776</td>\n      <td>8405</td>\n      <td>114.736952</td>\n      <td>109.886518</td>\n      <td>4.850434</td>\n    </tr>\n    <tr>\n      <th>15</th>\n      <td>16.0</td>\n      <td>Los Angeles Lakers</td>\n      <td>71</td>\n      <td>17090</td>\n      <td>3006</td>\n      <td>6269</td>\n      <td>0.480</td>\n      <td>782</td>\n      <td>2242</td>\n      <td>0.349</td>\n      <td>...</td>\n      <td>1803</td>\n      <td>612</td>\n      <td>468</td>\n      <td>1077</td>\n      <td>1471</td>\n      <td>8054</td>\n      <td>7643</td>\n      <td>110.628829</td>\n      <td>104.983380</td>\n      <td>5.645449</td>\n    </tr>\n    <tr>\n      <th>12</th>\n      <td>13.0</td>\n      <td>Toronto Raptors</td>\n      <td>72</td>\n      <td>17380</td>\n      <td>2897</td>\n      <td>6331</td>\n      <td>0.458</td>\n      <td>995</td>\n      <td>2663</td>\n      <td>0.374</td>\n      <td>...</td>\n      <td>1816</td>\n      <td>636</td>\n      <td>358</td>\n      <td>1067</td>\n      <td>1559</td>\n      <td>8118</td>\n      <td>7669</td>\n      <td>109.985097</td>\n      <td>103.901910</td>\n      <td>6.083187</td>\n    </tr>\n    <tr>\n      <th>9</th>\n      <td>10.0</td>\n      <td>Boston Celtics</td>\n      <td>72</td>\n      <td>17430</td>\n      <td>2971</td>\n      <td>6448</td>\n      <td>0.461</td>\n      <td>905</td>\n      <td>2487</td>\n      <td>0.364</td>\n      <td>...</td>\n      <td>1655</td>\n      <td>595</td>\n      <td>406</td>\n      <td>995</td>\n      <td>1553</td>\n      <td>8183</td>\n      <td>7729</td>\n      <td>111.451609</td>\n      <td>105.268176</td>\n      <td>6.183433</td>\n    </tr>\n    <tr>\n      <th>4</th>\n      <td>5.0</td>\n      <td>Los Angeles Clippers</td>\n      <td>72</td>\n      <td>17380</td>\n      <td>2992</td>\n      <td>6425</td>\n      <td>0.466</td>\n      <td>895</td>\n      <td>2410</td>\n      <td>0.371</td>\n      <td>...</td>\n      <td>1708</td>\n      <td>511</td>\n      <td>338</td>\n      <td>1051</td>\n      <td>1594</td>\n      <td>8377</td>\n      <td>7913</td>\n      <td>112.192966</td>\n      <td>105.978625</td>\n      <td>6.214341</td>\n    </tr>\n    <tr>\n      <th>1</th>\n      <td>2.0</td>\n      <td>Milwaukee Bucks</td>\n      <td>73</td>\n      <td>17595</td>\n      <td>3160</td>\n      <td>6638</td>\n      <td>0.476</td>\n      <td>1007</td>\n      <td>2840</td>\n      <td>0.355</td>\n      <td>...</td>\n      <td>1889</td>\n      <td>526</td>\n      <td>429</td>\n      <td>1102</td>\n      <td>1431</td>\n      <td>8663</td>\n      <td>7927</td>\n      <td>111.507272</td>\n      <td>102.033724</td>\n      <td>9.473549</td>\n    </tr>\n  </tbody>\n</table>\n<p>30 rows × 29 columns</p>\n</div>"
     },
     "metadata": {},
     "execution_count": 91
    }
   ],
   "source": [
    "def assignORtg(row):\n",
    "    FGA = row['FGA']\n",
    "    ORB = row['ORB']\n",
    "    TOV = row['TOV']\n",
    "    FTA = row['FTA']\n",
    "\n",
    "    TotalP = FGA - ORB + TOV + (0.4 * FTA)\n",
    "\n",
    "    PTS = row['PTS']\n",
    "\n",
    "    return (PTS/TotalP) * 100\n",
    "\n",
    "def assignDRtg(row):\n",
    "    FGA = row['FGA']\n",
    "    ORB = row['ORB']\n",
    "    TOV = row['TOV']\n",
    "    FTA = row['FTA']\n",
    "\n",
    "    TotalP = FGA - ORB + TOV + (0.4 * FTA)\n",
    "\n",
    "    PTSA = row['PTSA']\n",
    "\n",
    "    return (PTSA/TotalP) * 100\n",
    "\n",
    "def assignNRtg(row):\n",
    "    return row['ORTG'] - row['DRTG']\n",
    "\n",
    "\n",
    "df_team['ORTG'] = df_team.apply(assignORtg, axis=1)\n",
    "df_team['DRTG'] = df_team.apply(assignDRtg, axis=1)\n",
    "df_team['NRTG'] = df_team.apply(assignNRtg, axis=1)\n",
    "df_team.sort_values(by=['NRTG'])"
   ]
  },
  {
   "cell_type": "code",
   "execution_count": null,
   "metadata": {},
   "outputs": [],
   "source": []
  }
 ]
}