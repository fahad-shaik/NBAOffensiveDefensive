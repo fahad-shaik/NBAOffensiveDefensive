{
 "metadata": {
  "language_info": {
   "codemirror_mode": {
    "name": "ipython",
    "version": 3
   },
   "file_extension": ".py",
   "mimetype": "text/x-python",
   "name": "python",
   "nbconvert_exporter": "python",
   "pygments_lexer": "ipython3",
   "version": "3.9.4"
  },
  "orig_nbformat": 2,
  "kernelspec": {
   "name": "python394jvsc74a57bd029e2013b4b3955b211041aee3368967a96bfca65d41ee5f655d86bd41973a326",
   "display_name": "Python 3.9.4 64-bit"
  }
 },
 "nbformat": 4,
 "nbformat_minor": 2,
 "cells": [
  {
   "cell_type": "code",
   "execution_count": 1,
   "metadata": {},
   "outputs": [],
   "source": [
    "import numpy as np \n",
    "import pandas as pd \n",
    "import scipy as sc \n",
    "import sklearn as sk \n",
    "import matplotlib as plot"
   ]
  },
  {
   "cell_type": "code",
   "execution_count": 38,
   "metadata": {},
   "outputs": [],
   "source": [
    "team_map = {\"ATL\" : \"Atlanta Hawks\", \"BKN\" : \"Brooklyn Nets\", \"BOS\": \"Boston Celtics\", \"CHA\" : \"Charlotte Hornets\", \"CHI\" : \"Chicago Bulls\", \"CLE\" : \"Cleveland Cavaliers\", \"DAL\" : \"Dallas Mavericks\", \"DEN\" : \"Denver Nuggets\", \"DET\" : \"Detroit Pistons\", \"GSW\" : \"Golden State Warriors\", \"HOU\" : \"Houston Rockets\", \"IND\" : \"Indiana Pacers\", \"LAC\" : \"Los Angeles Clippers\", \"LAL\" : \"Los Angeles Lakers\", \"MEM\" : \"Memphis Grizzlies\", \"MIA\" : \"Miami Heat\", \"MIL\" : \"Milwaukee Bucks\", \"MIN\" : \"Minnesota Timberwolves\",\"NOP\" : \"New Orleans Pelicans\", \"NYK\" : \"New York Knicks\", \"OKC\" : \"Oklahoma City Thunder\", \"ORL\" : \"Orlando Magic\", \"PHI\" : \"Philadelphia 76ers\", \"PHX\" : \"Phoenix Suns\", \"POR\" : \"Portland Trail Blazers\", \"SAC\" : \"Sacramento Kings\", \"SAS\" : \"San Antonio Spurs\", \"TOR\" : \"Toronto Raptors\", \"UTA\" : \"Utah Jazz\", \"WAS\" : \"Washington Wizards\"}\n",
    "\n",
    "df_team = pd.read_csv('../data/teams_stats/2019-20_nba_teams.csv')\n",
    "df_player = pd.read_csv('../data/player_stats/2019-20_nba_players_new.csv')\n"
   ]
  },
  {
   "cell_type": "code",
   "execution_count": 39,
   "metadata": {},
   "outputs": [
    {
     "output_type": "execute_result",
     "data": {
      "text/plain": [
       "    Rk                     Team   G     MP    FG   FGA    FG%    3P   3PA  \\\n",
       "0  1.0        Dallas Mavericks*  75  18175  3124  6772  0.461  1136  3095   \n",
       "1  2.0         Milwaukee Bucks*  73  17595  3160  6638  0.476  1007  2840   \n",
       "2  3.0  Portland Trail Blazers*  74  17835  3122  6749  0.463   952  2525   \n",
       "3  4.0         Houston Rockets*  72  17380  2936  6512  0.451  1126  3261   \n",
       "4  5.0    Los Angeles Clippers*  72  17380  2992  6425  0.466   895  2410   \n",
       "\n",
       "     3P%  ...    FT%  ORB   DRB   TRB   AST  STL  BLK   TOV    PF   PTS  \n",
       "0  0.367  ...  0.779  791  2729  3520  1849  460  363   953  1462  8776  \n",
       "1  0.355  ...  0.742  691  3083  3774  1889  526  429  1102  1431  8663  \n",
       "2  0.377  ...  0.804  754  2599  3353  1525  465  451   946  1606  8508  \n",
       "3  0.345  ...  0.791  704  2484  3188  1557  627  371  1057  1566  8482  \n",
       "4  0.371  ...  0.791  767  2664  3431  1708  511  338  1051  1594  8377  \n",
       "\n",
       "[5 rows x 25 columns]"
      ],
      "text/html": "<div>\n<style scoped>\n    .dataframe tbody tr th:only-of-type {\n        vertical-align: middle;\n    }\n\n    .dataframe tbody tr th {\n        vertical-align: top;\n    }\n\n    .dataframe thead th {\n        text-align: right;\n    }\n</style>\n<table border=\"1\" class=\"dataframe\">\n  <thead>\n    <tr style=\"text-align: right;\">\n      <th></th>\n      <th>Rk</th>\n      <th>Team</th>\n      <th>G</th>\n      <th>MP</th>\n      <th>FG</th>\n      <th>FGA</th>\n      <th>FG%</th>\n      <th>3P</th>\n      <th>3PA</th>\n      <th>3P%</th>\n      <th>...</th>\n      <th>FT%</th>\n      <th>ORB</th>\n      <th>DRB</th>\n      <th>TRB</th>\n      <th>AST</th>\n      <th>STL</th>\n      <th>BLK</th>\n      <th>TOV</th>\n      <th>PF</th>\n      <th>PTS</th>\n    </tr>\n  </thead>\n  <tbody>\n    <tr>\n      <th>0</th>\n      <td>1.0</td>\n      <td>Dallas Mavericks*</td>\n      <td>75</td>\n      <td>18175</td>\n      <td>3124</td>\n      <td>6772</td>\n      <td>0.461</td>\n      <td>1136</td>\n      <td>3095</td>\n      <td>0.367</td>\n      <td>...</td>\n      <td>0.779</td>\n      <td>791</td>\n      <td>2729</td>\n      <td>3520</td>\n      <td>1849</td>\n      <td>460</td>\n      <td>363</td>\n      <td>953</td>\n      <td>1462</td>\n      <td>8776</td>\n    </tr>\n    <tr>\n      <th>1</th>\n      <td>2.0</td>\n      <td>Milwaukee Bucks*</td>\n      <td>73</td>\n      <td>17595</td>\n      <td>3160</td>\n      <td>6638</td>\n      <td>0.476</td>\n      <td>1007</td>\n      <td>2840</td>\n      <td>0.355</td>\n      <td>...</td>\n      <td>0.742</td>\n      <td>691</td>\n      <td>3083</td>\n      <td>3774</td>\n      <td>1889</td>\n      <td>526</td>\n      <td>429</td>\n      <td>1102</td>\n      <td>1431</td>\n      <td>8663</td>\n    </tr>\n    <tr>\n      <th>2</th>\n      <td>3.0</td>\n      <td>Portland Trail Blazers*</td>\n      <td>74</td>\n      <td>17835</td>\n      <td>3122</td>\n      <td>6749</td>\n      <td>0.463</td>\n      <td>952</td>\n      <td>2525</td>\n      <td>0.377</td>\n      <td>...</td>\n      <td>0.804</td>\n      <td>754</td>\n      <td>2599</td>\n      <td>3353</td>\n      <td>1525</td>\n      <td>465</td>\n      <td>451</td>\n      <td>946</td>\n      <td>1606</td>\n      <td>8508</td>\n    </tr>\n    <tr>\n      <th>3</th>\n      <td>4.0</td>\n      <td>Houston Rockets*</td>\n      <td>72</td>\n      <td>17380</td>\n      <td>2936</td>\n      <td>6512</td>\n      <td>0.451</td>\n      <td>1126</td>\n      <td>3261</td>\n      <td>0.345</td>\n      <td>...</td>\n      <td>0.791</td>\n      <td>704</td>\n      <td>2484</td>\n      <td>3188</td>\n      <td>1557</td>\n      <td>627</td>\n      <td>371</td>\n      <td>1057</td>\n      <td>1566</td>\n      <td>8482</td>\n    </tr>\n    <tr>\n      <th>4</th>\n      <td>5.0</td>\n      <td>Los Angeles Clippers*</td>\n      <td>72</td>\n      <td>17380</td>\n      <td>2992</td>\n      <td>6425</td>\n      <td>0.466</td>\n      <td>895</td>\n      <td>2410</td>\n      <td>0.371</td>\n      <td>...</td>\n      <td>0.791</td>\n      <td>767</td>\n      <td>2664</td>\n      <td>3431</td>\n      <td>1708</td>\n      <td>511</td>\n      <td>338</td>\n      <td>1051</td>\n      <td>1594</td>\n      <td>8377</td>\n    </tr>\n  </tbody>\n</table>\n<p>5 rows × 25 columns</p>\n</div>"
     },
     "metadata": {},
     "execution_count": 39
    }
   ],
   "source": [
    "df_team.head()"
   ]
  },
  {
   "cell_type": "code",
   "execution_count": 40,
   "metadata": {},
   "outputs": [
    {
     "output_type": "execute_result",
     "data": {
      "text/plain": [
       "   Rk                              Player Pos  Age   Tm   G  GS    MP   FG  \\\n",
       "0   1              Steven Adams/adamsst01   C   26  OKC  63  63  1680  283   \n",
       "1   2               Bam Adebayo/adebaba01  PF   22  MIA  72  72  2417  440   \n",
       "2   3         LaMarcus Aldridge/aldrila01   C   34  SAS  53  53  1754  391   \n",
       "3   4            Kyle Alexander/alexaky01   C   23  MIA   2   0    13    1   \n",
       "4   5  Nickeil Alexander-Walker/alexani01  SG   21  NOP  47   1   591   98   \n",
       "\n",
       "   FGA  ...    FT%  ORB  DRB  TRB  AST  STL  BLK  TOV   PF   PTS  \n",
       "0  478  ...  0.582  207  376  583  146   51   67   94  122   684  \n",
       "1  790  ...  0.691  176  559  735  368   82   93  204  182  1146  \n",
       "2  793  ...  0.827  103  289  392  129   36   87   74  128  1001  \n",
       "3    2  ...    NaN    2    1    3    0    0    0    1    1     2  \n",
       "4  266  ...  0.676    9   75   84   89   17    8   54   57   267  \n",
       "\n",
       "[5 rows x 30 columns]"
      ],
      "text/html": "<div>\n<style scoped>\n    .dataframe tbody tr th:only-of-type {\n        vertical-align: middle;\n    }\n\n    .dataframe tbody tr th {\n        vertical-align: top;\n    }\n\n    .dataframe thead th {\n        text-align: right;\n    }\n</style>\n<table border=\"1\" class=\"dataframe\">\n  <thead>\n    <tr style=\"text-align: right;\">\n      <th></th>\n      <th>Rk</th>\n      <th>Player</th>\n      <th>Pos</th>\n      <th>Age</th>\n      <th>Tm</th>\n      <th>G</th>\n      <th>GS</th>\n      <th>MP</th>\n      <th>FG</th>\n      <th>FGA</th>\n      <th>...</th>\n      <th>FT%</th>\n      <th>ORB</th>\n      <th>DRB</th>\n      <th>TRB</th>\n      <th>AST</th>\n      <th>STL</th>\n      <th>BLK</th>\n      <th>TOV</th>\n      <th>PF</th>\n      <th>PTS</th>\n    </tr>\n  </thead>\n  <tbody>\n    <tr>\n      <th>0</th>\n      <td>1</td>\n      <td>Steven Adams/adamsst01</td>\n      <td>C</td>\n      <td>26</td>\n      <td>OKC</td>\n      <td>63</td>\n      <td>63</td>\n      <td>1680</td>\n      <td>283</td>\n      <td>478</td>\n      <td>...</td>\n      <td>0.582</td>\n      <td>207</td>\n      <td>376</td>\n      <td>583</td>\n      <td>146</td>\n      <td>51</td>\n      <td>67</td>\n      <td>94</td>\n      <td>122</td>\n      <td>684</td>\n    </tr>\n    <tr>\n      <th>1</th>\n      <td>2</td>\n      <td>Bam Adebayo/adebaba01</td>\n      <td>PF</td>\n      <td>22</td>\n      <td>MIA</td>\n      <td>72</td>\n      <td>72</td>\n      <td>2417</td>\n      <td>440</td>\n      <td>790</td>\n      <td>...</td>\n      <td>0.691</td>\n      <td>176</td>\n      <td>559</td>\n      <td>735</td>\n      <td>368</td>\n      <td>82</td>\n      <td>93</td>\n      <td>204</td>\n      <td>182</td>\n      <td>1146</td>\n    </tr>\n    <tr>\n      <th>2</th>\n      <td>3</td>\n      <td>LaMarcus Aldridge/aldrila01</td>\n      <td>C</td>\n      <td>34</td>\n      <td>SAS</td>\n      <td>53</td>\n      <td>53</td>\n      <td>1754</td>\n      <td>391</td>\n      <td>793</td>\n      <td>...</td>\n      <td>0.827</td>\n      <td>103</td>\n      <td>289</td>\n      <td>392</td>\n      <td>129</td>\n      <td>36</td>\n      <td>87</td>\n      <td>74</td>\n      <td>128</td>\n      <td>1001</td>\n    </tr>\n    <tr>\n      <th>3</th>\n      <td>4</td>\n      <td>Kyle Alexander/alexaky01</td>\n      <td>C</td>\n      <td>23</td>\n      <td>MIA</td>\n      <td>2</td>\n      <td>0</td>\n      <td>13</td>\n      <td>1</td>\n      <td>2</td>\n      <td>...</td>\n      <td>NaN</td>\n      <td>2</td>\n      <td>1</td>\n      <td>3</td>\n      <td>0</td>\n      <td>0</td>\n      <td>0</td>\n      <td>1</td>\n      <td>1</td>\n      <td>2</td>\n    </tr>\n    <tr>\n      <th>4</th>\n      <td>5</td>\n      <td>Nickeil Alexander-Walker/alexani01</td>\n      <td>SG</td>\n      <td>21</td>\n      <td>NOP</td>\n      <td>47</td>\n      <td>1</td>\n      <td>591</td>\n      <td>98</td>\n      <td>266</td>\n      <td>...</td>\n      <td>0.676</td>\n      <td>9</td>\n      <td>75</td>\n      <td>84</td>\n      <td>89</td>\n      <td>17</td>\n      <td>8</td>\n      <td>54</td>\n      <td>57</td>\n      <td>267</td>\n    </tr>\n  </tbody>\n</table>\n<p>5 rows × 30 columns</p>\n</div>"
     },
     "metadata": {},
     "execution_count": 40
    }
   ],
   "source": [
    "df_player.head()"
   ]
  },
  {
   "cell_type": "code",
   "execution_count": 41,
   "metadata": {},
   "outputs": [
    {
     "output_type": "execute_result",
     "data": {
      "text/plain": [
       "    Rk                    Team   G     MP    FG   FGA    FG%    3P   3PA  \\\n",
       "0  1.0        Dallas Mavericks  75  18175  3124  6772  0.461  1136  3095   \n",
       "1  2.0         Milwaukee Bucks  73  17595  3160  6638  0.476  1007  2840   \n",
       "2  3.0  Portland Trail Blazers  74  17835  3122  6749  0.463   952  2525   \n",
       "3  4.0         Houston Rockets  72  17380  2936  6512  0.451  1126  3261   \n",
       "4  5.0    Los Angeles Clippers  72  17380  2992  6425  0.466   895  2410   \n",
       "\n",
       "     3P%  ...    FT%  ORB   DRB   TRB   AST  STL  BLK   TOV    PF   PTS  \n",
       "0  0.367  ...  0.779  791  2729  3520  1849  460  363   953  1462  8776  \n",
       "1  0.355  ...  0.742  691  3083  3774  1889  526  429  1102  1431  8663  \n",
       "2  0.377  ...  0.804  754  2599  3353  1525  465  451   946  1606  8508  \n",
       "3  0.345  ...  0.791  704  2484  3188  1557  627  371  1057  1566  8482  \n",
       "4  0.371  ...  0.791  767  2664  3431  1708  511  338  1051  1594  8377  \n",
       "\n",
       "[5 rows x 25 columns]"
      ],
      "text/html": "<div>\n<style scoped>\n    .dataframe tbody tr th:only-of-type {\n        vertical-align: middle;\n    }\n\n    .dataframe tbody tr th {\n        vertical-align: top;\n    }\n\n    .dataframe thead th {\n        text-align: right;\n    }\n</style>\n<table border=\"1\" class=\"dataframe\">\n  <thead>\n    <tr style=\"text-align: right;\">\n      <th></th>\n      <th>Rk</th>\n      <th>Team</th>\n      <th>G</th>\n      <th>MP</th>\n      <th>FG</th>\n      <th>FGA</th>\n      <th>FG%</th>\n      <th>3P</th>\n      <th>3PA</th>\n      <th>3P%</th>\n      <th>...</th>\n      <th>FT%</th>\n      <th>ORB</th>\n      <th>DRB</th>\n      <th>TRB</th>\n      <th>AST</th>\n      <th>STL</th>\n      <th>BLK</th>\n      <th>TOV</th>\n      <th>PF</th>\n      <th>PTS</th>\n    </tr>\n  </thead>\n  <tbody>\n    <tr>\n      <th>0</th>\n      <td>1.0</td>\n      <td>Dallas Mavericks</td>\n      <td>75</td>\n      <td>18175</td>\n      <td>3124</td>\n      <td>6772</td>\n      <td>0.461</td>\n      <td>1136</td>\n      <td>3095</td>\n      <td>0.367</td>\n      <td>...</td>\n      <td>0.779</td>\n      <td>791</td>\n      <td>2729</td>\n      <td>3520</td>\n      <td>1849</td>\n      <td>460</td>\n      <td>363</td>\n      <td>953</td>\n      <td>1462</td>\n      <td>8776</td>\n    </tr>\n    <tr>\n      <th>1</th>\n      <td>2.0</td>\n      <td>Milwaukee Bucks</td>\n      <td>73</td>\n      <td>17595</td>\n      <td>3160</td>\n      <td>6638</td>\n      <td>0.476</td>\n      <td>1007</td>\n      <td>2840</td>\n      <td>0.355</td>\n      <td>...</td>\n      <td>0.742</td>\n      <td>691</td>\n      <td>3083</td>\n      <td>3774</td>\n      <td>1889</td>\n      <td>526</td>\n      <td>429</td>\n      <td>1102</td>\n      <td>1431</td>\n      <td>8663</td>\n    </tr>\n    <tr>\n      <th>2</th>\n      <td>3.0</td>\n      <td>Portland Trail Blazers</td>\n      <td>74</td>\n      <td>17835</td>\n      <td>3122</td>\n      <td>6749</td>\n      <td>0.463</td>\n      <td>952</td>\n      <td>2525</td>\n      <td>0.377</td>\n      <td>...</td>\n      <td>0.804</td>\n      <td>754</td>\n      <td>2599</td>\n      <td>3353</td>\n      <td>1525</td>\n      <td>465</td>\n      <td>451</td>\n      <td>946</td>\n      <td>1606</td>\n      <td>8508</td>\n    </tr>\n    <tr>\n      <th>3</th>\n      <td>4.0</td>\n      <td>Houston Rockets</td>\n      <td>72</td>\n      <td>17380</td>\n      <td>2936</td>\n      <td>6512</td>\n      <td>0.451</td>\n      <td>1126</td>\n      <td>3261</td>\n      <td>0.345</td>\n      <td>...</td>\n      <td>0.791</td>\n      <td>704</td>\n      <td>2484</td>\n      <td>3188</td>\n      <td>1557</td>\n      <td>627</td>\n      <td>371</td>\n      <td>1057</td>\n      <td>1566</td>\n      <td>8482</td>\n    </tr>\n    <tr>\n      <th>4</th>\n      <td>5.0</td>\n      <td>Los Angeles Clippers</td>\n      <td>72</td>\n      <td>17380</td>\n      <td>2992</td>\n      <td>6425</td>\n      <td>0.466</td>\n      <td>895</td>\n      <td>2410</td>\n      <td>0.371</td>\n      <td>...</td>\n      <td>0.791</td>\n      <td>767</td>\n      <td>2664</td>\n      <td>3431</td>\n      <td>1708</td>\n      <td>511</td>\n      <td>338</td>\n      <td>1051</td>\n      <td>1594</td>\n      <td>8377</td>\n    </tr>\n  </tbody>\n</table>\n<p>5 rows × 25 columns</p>\n</div>"
     },
     "metadata": {},
     "execution_count": 41
    }
   ],
   "source": [
    "def stripAsterisk(s):\n",
    "    if s[-1] == '*':\n",
    "        return s[0:-1]\n",
    "    else:\n",
    "        return s\n",
    "\n",
    "df_team['Team'] = df_team['Team'].apply(stripAsterisk)\n",
    "df_team = df_team.dropna()\n",
    "df_team.head()"
   ]
  },
  {
   "cell_type": "code",
   "execution_count": 54,
   "metadata": {},
   "outputs": [
    {
     "output_type": "execute_result",
     "data": {
      "text/plain": [
       "   Rk                    Player Pos  Age   Tm   G  GS    MP   FG  FGA  ...  \\\n",
       "0   1              Steven Adams   C   26  OKC  63  63  1680  283  478  ...   \n",
       "1   2               Bam Adebayo  PF   22  MIA  72  72  2417  440  790  ...   \n",
       "2   3         LaMarcus Aldridge   C   34  SAS  53  53  1754  391  793  ...   \n",
       "4   5  Nickeil Alexander-Walker  SG   21  NOP  47   1   591   98  266  ...   \n",
       "5   6             Grayson Allen  SG   24  MEM  38   0   718  117  251  ...   \n",
       "\n",
       "     FT%  ORB  DRB  TRB  AST  STL  BLK  TOV   PF   PTS  \n",
       "0  0.582  207  376  583  146   51   67   94  122   684  \n",
       "1  0.691  176  559  735  368   82   93  204  182  1146  \n",
       "2  0.827  103  289  392  129   36   87   74  128  1001  \n",
       "4  0.676    9   75   84   89   17    8   54   57   267  \n",
       "5  0.867    8   77   85   52   10    2   33   53   330  \n",
       "\n",
       "[5 rows x 30 columns]"
      ],
      "text/html": "<div>\n<style scoped>\n    .dataframe tbody tr th:only-of-type {\n        vertical-align: middle;\n    }\n\n    .dataframe tbody tr th {\n        vertical-align: top;\n    }\n\n    .dataframe thead th {\n        text-align: right;\n    }\n</style>\n<table border=\"1\" class=\"dataframe\">\n  <thead>\n    <tr style=\"text-align: right;\">\n      <th></th>\n      <th>Rk</th>\n      <th>Player</th>\n      <th>Pos</th>\n      <th>Age</th>\n      <th>Tm</th>\n      <th>G</th>\n      <th>GS</th>\n      <th>MP</th>\n      <th>FG</th>\n      <th>FGA</th>\n      <th>...</th>\n      <th>FT%</th>\n      <th>ORB</th>\n      <th>DRB</th>\n      <th>TRB</th>\n      <th>AST</th>\n      <th>STL</th>\n      <th>BLK</th>\n      <th>TOV</th>\n      <th>PF</th>\n      <th>PTS</th>\n    </tr>\n  </thead>\n  <tbody>\n    <tr>\n      <th>0</th>\n      <td>1</td>\n      <td>Steven Adams</td>\n      <td>C</td>\n      <td>26</td>\n      <td>OKC</td>\n      <td>63</td>\n      <td>63</td>\n      <td>1680</td>\n      <td>283</td>\n      <td>478</td>\n      <td>...</td>\n      <td>0.582</td>\n      <td>207</td>\n      <td>376</td>\n      <td>583</td>\n      <td>146</td>\n      <td>51</td>\n      <td>67</td>\n      <td>94</td>\n      <td>122</td>\n      <td>684</td>\n    </tr>\n    <tr>\n      <th>1</th>\n      <td>2</td>\n      <td>Bam Adebayo</td>\n      <td>PF</td>\n      <td>22</td>\n      <td>MIA</td>\n      <td>72</td>\n      <td>72</td>\n      <td>2417</td>\n      <td>440</td>\n      <td>790</td>\n      <td>...</td>\n      <td>0.691</td>\n      <td>176</td>\n      <td>559</td>\n      <td>735</td>\n      <td>368</td>\n      <td>82</td>\n      <td>93</td>\n      <td>204</td>\n      <td>182</td>\n      <td>1146</td>\n    </tr>\n    <tr>\n      <th>2</th>\n      <td>3</td>\n      <td>LaMarcus Aldridge</td>\n      <td>C</td>\n      <td>34</td>\n      <td>SAS</td>\n      <td>53</td>\n      <td>53</td>\n      <td>1754</td>\n      <td>391</td>\n      <td>793</td>\n      <td>...</td>\n      <td>0.827</td>\n      <td>103</td>\n      <td>289</td>\n      <td>392</td>\n      <td>129</td>\n      <td>36</td>\n      <td>87</td>\n      <td>74</td>\n      <td>128</td>\n      <td>1001</td>\n    </tr>\n    <tr>\n      <th>4</th>\n      <td>5</td>\n      <td>Nickeil Alexander-Walker</td>\n      <td>SG</td>\n      <td>21</td>\n      <td>NOP</td>\n      <td>47</td>\n      <td>1</td>\n      <td>591</td>\n      <td>98</td>\n      <td>266</td>\n      <td>...</td>\n      <td>0.676</td>\n      <td>9</td>\n      <td>75</td>\n      <td>84</td>\n      <td>89</td>\n      <td>17</td>\n      <td>8</td>\n      <td>54</td>\n      <td>57</td>\n      <td>267</td>\n    </tr>\n    <tr>\n      <th>5</th>\n      <td>6</td>\n      <td>Grayson Allen</td>\n      <td>SG</td>\n      <td>24</td>\n      <td>MEM</td>\n      <td>38</td>\n      <td>0</td>\n      <td>718</td>\n      <td>117</td>\n      <td>251</td>\n      <td>...</td>\n      <td>0.867</td>\n      <td>8</td>\n      <td>77</td>\n      <td>85</td>\n      <td>52</td>\n      <td>10</td>\n      <td>2</td>\n      <td>33</td>\n      <td>53</td>\n      <td>330</td>\n    </tr>\n  </tbody>\n</table>\n<p>5 rows × 30 columns</p>\n</div>"
     },
     "metadata": {},
     "execution_count": 54
    }
   ],
   "source": [
    "def nameOnly(s):\n",
    "    new_s = s.split('/')\n",
    "    return new_s[0]\n",
    "\n",
    "df_player['Player'] = df_player['Player'].apply(nameOnly)\n",
    "df_player = df_player.dropna()\n",
    "df_player.head()"
   ]
  },
  {
   "cell_type": "code",
   "execution_count": null,
   "metadata": {},
   "outputs": [],
   "source": []
  }
 ]
}